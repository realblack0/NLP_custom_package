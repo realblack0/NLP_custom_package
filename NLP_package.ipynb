{
 "cells": [
  {
   "cell_type": "code",
   "execution_count": 26,
   "metadata": {},
   "outputs": [],
   "source": [
    "from collections import defaultdict\n",
    "from nltk import word_tokenize\n",
    "from math import log, sqrt"
   ]
  },
  {
   "cell_type": "code",
   "execution_count": null,
   "metadata": {},
   "outputs": [],
   "source": [
    "\n",
    "class kNN:\n",
    "    def __init__(tokenizer=None):\n",
    "        self.params = {}\n",
    "        self.tokenizer = tokenizer if not tokenizer == None else word_tokenizer\n",
    "        \n",
    "    def fit(self, X, y):\n",
    "        # check valid dataset\n",
    "        assert len(X) == len(y)\n",
    "        \n",
    "        # save originals\n",
    "        self.X = X\n",
    "        self.y = y\n",
    "        self.doc2idx = lambda d: X.index(d)\n",
    "        self.idx2doc = lambda i: X[i]\n",
    "        \n",
    "        # TDM\n",
    "        self.vocabulary = list()\n",
    "        self.posting = list()\n",
    "        self.lexicon = defaultdict(lambda :-1)\n",
    "        self.docInfo = defaultdict(lambda: {\"maxTf\":0, \"vecLen\":0.0})\n",
    "        for doc in X:\n",
    "            localPosting = defaultdict(int)\n",
    "            for token in self.tokenizer(doc):\n",
    "                if token not in self.vocabulary:\n",
    "                    self.vocabulary.append(token)\n",
    "                localPosting[token] += 1\n",
    "                \n",
    "            maxTf = max(localPosting.values())\n",
    "            docID = self.doc2idx(doc)\n",
    "            self.docInfo[docID][\"maxTf\"] = maxTf\n",
    "            \n",
    "            for token, freq in localPosting.items():\n",
    "                ptr = self.lexicon[token]\n",
    "                nexPtr = len(self.posting)\n",
    "                self.posting.append((docID, freq, ptr))\n",
    "                self.lexicon[token] = nextptr\n",
    "        \n",
    "        # weight\n",
    "        self.weight = \n",
    "                \n",
    "        # distance\n",
    "        self \n",
    "        \n",
    "    def predict_prop(self, test, k=5, method=\"euclide\"):\n",
    "        # test indexing\n",
    "        \n",
    "    \n",
    "    \n",
    "    def predict(self, test, k=5, method=\"euclide\"):\n",
    "        # predict\n",
    "        \n",
    "        \n",
    "        \n",
    "        \n",
    "        # sorting\n",
    "        \n",
    "    def predict_many(self, testset, k=5, method=\"euclide\"):\n",
    "        "
   ]
  },
  {
   "cell_type": "code",
   "execution_count": null,
   "metadata": {},
   "outputs": [],
   "source": []
  }
 ],
 "metadata": {
  "kernelspec": {
   "display_name": "Python 3",
   "language": "python",
   "name": "python3"
  },
  "language_info": {
   "codemirror_mode": {
    "name": "ipython",
    "version": 3
   },
   "file_extension": ".py",
   "mimetype": "text/x-python",
   "name": "python",
   "nbconvert_exporter": "python",
   "pygments_lexer": "ipython3",
   "version": "3.7.3"
  }
 },
 "nbformat": 4,
 "nbformat_minor": 2
}
